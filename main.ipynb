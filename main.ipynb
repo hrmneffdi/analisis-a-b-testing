{
 "cells": [
  {
   "cell_type": "markdown",
   "id": "42bed15b",
   "metadata": {},
   "source": []
  },
  {
   "cell_type": "markdown",
   "id": "379ab27a",
   "metadata": {},
   "source": [
    "\n",
    "\n",
    "## Analisis A/B Testing untuk Meningkatkan Pendapatan Situs Web <br>\n",
    "\n",
    "### Pendahuluan\n",
    "- <b>Background </b>: <br><br> Analisis A/B Testing untuk Meningkatkan Pendapatan Situs Web\n",
    "Proyek ini berfokus pada analisis hasil A/B testing yang dilakukan oleh situs web untuk meningkatkan pendapatannya. Data yang digunakan dalam proyek ini diperoleh dari sumber Kaggle dan berisi informasi tentang hasil eksperimen, jenis sampel yang digunakan (variant_name), dan pendapatan yang dihasilkan oleh pengguna (revenue).<br><br>\n",
    "- <b>Objective</b> :<br><br>\n",
    "Tujuan utama dari proyek ini adalah menganalisis hasil dari eksperimen A/B yang telah dilakukan oleh situs web dan memberikan rekomendasi berdasarkan analisis tersebut. Kami akan mengidentifikasi apakah perubahan yang diuji pada tata letak situs web (varian A dan B) memiliki dampak signifikan terhadap pendapatan. Dengan demikian, rekomendasi akan diberikan untuk memandu keputusan lebih lanjut terkait perubahan tersebut.\n",
    "<br><br>\n",
    "- <b>Bussines Question</b> : <br><br>\n",
    "    - Variant mana yang dapat meningkatkan pendapatan (revenue) selama a/b testing?\n",
    "    - Apakah terdapat perbedaan pendapatan (revenue) antara tiap variant secara signifikan?\n",
    "    - Apa informasi yang dapat diberikan setelah a/b testing dilakukan? <br><br>\n",
    "\n",
    "- <b>Aprroach</b>:<br><br>\n",
    "Untuk menjawab pertanyaan ini, beberapa pendekatan statistik dilakukan seperti uji normalitas dan uji homogenitas untuk mengetahui karakteristik variabel revenue. Lalu dilanjutkan uji t maupun uji Mann-Whitney U pada rata-rata revenue tiap variant agar mengetahui apakah ada perbedaan rata-rata tiap variant. Dengan menjawab pertanyaan, diharapkan kedepannya informasi yang diberikan dapat membantu <i>stakeholders</i> untuk membuat keputusan dan pada akhirnya bisa meningkatkan pendapatan bisnis."
   ]
  },
  {
   "cell_type": "markdown",
   "id": "ecec4a2e",
   "metadata": {},
   "source": [
    "### Data Understanding\n",
    "<br>Data understanding dilakukan untuk mengenali data secara keseluruhan. Beberapa langkah yang dilakukan sebagai berikut:<br><br>\n",
    "a. Penjelasan tiap variabel<br>\n",
    "Penjelasan variabel meliputi pengertian dari semua variabel yang ada."
   ]
  },
  {
   "cell_type": "code",
   "execution_count": 1,
   "id": "67840e28",
   "metadata": {},
   "outputs": [
    {
     "data": {
      "text/html": [
       "<div>\n",
       "<style scoped>\n",
       "    .dataframe tbody tr th:only-of-type {\n",
       "        vertical-align: middle;\n",
       "    }\n",
       "\n",
       "    .dataframe tbody tr th {\n",
       "        vertical-align: top;\n",
       "    }\n",
       "\n",
       "    .dataframe thead th {\n",
       "        text-align: right;\n",
       "    }\n",
       "</style>\n",
       "<table border=\"1\" class=\"dataframe\">\n",
       "  <thead>\n",
       "    <tr style=\"text-align: right;\">\n",
       "      <th></th>\n",
       "      <th>USER_ID</th>\n",
       "      <th>VARIANT_NAME</th>\n",
       "      <th>REVENUE</th>\n",
       "    </tr>\n",
       "  </thead>\n",
       "  <tbody>\n",
       "    <tr>\n",
       "      <th>0</th>\n",
       "      <td>737</td>\n",
       "      <td>variant</td>\n",
       "      <td>0.0</td>\n",
       "    </tr>\n",
       "    <tr>\n",
       "      <th>1</th>\n",
       "      <td>2423</td>\n",
       "      <td>control</td>\n",
       "      <td>0.0</td>\n",
       "    </tr>\n",
       "    <tr>\n",
       "      <th>2</th>\n",
       "      <td>9411</td>\n",
       "      <td>control</td>\n",
       "      <td>0.0</td>\n",
       "    </tr>\n",
       "    <tr>\n",
       "      <th>3</th>\n",
       "      <td>7311</td>\n",
       "      <td>control</td>\n",
       "      <td>0.0</td>\n",
       "    </tr>\n",
       "    <tr>\n",
       "      <th>4</th>\n",
       "      <td>6174</td>\n",
       "      <td>variant</td>\n",
       "      <td>0.0</td>\n",
       "    </tr>\n",
       "  </tbody>\n",
       "</table>\n",
       "</div>"
      ],
      "text/plain": [
       "   USER_ID VARIANT_NAME  REVENUE\n",
       "0      737      variant      0.0\n",
       "1     2423      control      0.0\n",
       "2     9411      control      0.0\n",
       "3     7311      control      0.0\n",
       "4     6174      variant      0.0"
      ]
     },
     "execution_count": 1,
     "metadata": {},
     "output_type": "execute_result"
    }
   ],
   "source": [
    "import pandas as pd\n",
    "import numpy as np\n",
    "import matplotlib.pyplot as plt\n",
    "import seaborn as sns\n",
    "\n",
    "data = pd.read_csv('AB_Test_Results.csv')\n",
    "data.head()"
   ]
  },
  {
   "cell_type": "markdown",
   "id": "6b6c531e",
   "metadata": {},
   "source": [
    "- USER_ID : Nomer unique dari tiap individu saat dilakukannya observasi (integer)<br>\n",
    "- VARIANT_NAME : Variant treatment yang dilakukan terhadap objek (string)<br>\n",
    "- REVENUE : Harga yang dikeluarkan user untuk membeli produk atau jasa (float) <br>"
   ]
  },
  {
   "cell_type": "markdown",
   "id": "bd6c7c80",
   "metadata": {},
   "source": [
    "b. Mengecek nilai null pada tiap variabel<br>\n",
    "Pengecekan nilai null ini dilakukan untuk mendeteksi apakah terdapat nilai null didalam data."
   ]
  },
  {
   "cell_type": "code",
   "execution_count": 2,
   "id": "f256c5ac",
   "metadata": {},
   "outputs": [
    {
     "name": "stdout",
     "output_type": "stream",
     "text": [
      "<class 'pandas.core.frame.DataFrame'>\n",
      "RangeIndex: 10000 entries, 0 to 9999\n",
      "Data columns (total 3 columns):\n",
      " #   Column        Non-Null Count  Dtype  \n",
      "---  ------        --------------  -----  \n",
      " 0   USER_ID       10000 non-null  int64  \n",
      " 1   VARIANT_NAME  10000 non-null  object \n",
      " 2   REVENUE       10000 non-null  float64\n",
      "dtypes: float64(1), int64(1), object(1)\n",
      "memory usage: 234.5+ KB\n"
     ]
    }
   ],
   "source": [
    "data.info()"
   ]
  },
  {
   "cell_type": "markdown",
   "id": "ea211cd0",
   "metadata": {},
   "source": [
    "Ternyata untuk tiap variabel tidak memiliki data null.<br> <br>\n",
    "b. Mengecek duplikasi data"
   ]
  },
  {
   "cell_type": "code",
   "execution_count": 3,
   "id": "2257d667",
   "metadata": {},
   "outputs": [
    {
     "data": {
      "text/plain": [
       "(1082, 1053)"
      ]
     },
     "execution_count": 3,
     "metadata": {},
     "output_type": "execute_result"
    }
   ],
   "source": [
    "variant = data.loc[data['VARIANT_NAME'] == 'variant']\n",
    "control = data.loc[data['VARIANT_NAME'] == 'control']\n",
    "\n",
    "variant.duplicated(subset='USER_ID').sum(), control.duplicated(subset='USER_ID').sum()"
   ]
  },
  {
   "cell_type": "markdown",
   "id": "7b267a39",
   "metadata": {},
   "source": [
    "Di sini terindikasi adanya duplikasi data pada observasi tiap variant name. Maka dari itu, kita harus menghapusnya"
   ]
  },
  {
   "cell_type": "code",
   "execution_count": 4,
   "id": "3fa3ce20",
   "metadata": {},
   "outputs": [
    {
     "data": {
      "text/plain": [
       "((3934, 3), (3931, 3))"
      ]
     },
     "execution_count": 4,
     "metadata": {},
     "output_type": "execute_result"
    }
   ],
   "source": [
    "new_variant = variant.drop_duplicates(subset=['USER_ID'], keep='first').reset_index(drop=True)\n",
    "new_control = control.drop_duplicates(subset=['USER_ID'], keep='first').reset_index(drop=True)\n",
    "\n",
    "new_variant.shape, new_control.shape"
   ]
  },
  {
   "cell_type": "markdown",
   "id": "dba1fdfe",
   "metadata": {},
   "source": [
    "Data yang terindikasi sudah terhapus, dan langsung saja kita gabungkan seperti semula."
   ]
  },
  {
   "cell_type": "code",
   "execution_count": 5,
   "id": "a00d363c",
   "metadata": {},
   "outputs": [
    {
     "data": {
      "text/html": [
       "<div>\n",
       "<style scoped>\n",
       "    .dataframe tbody tr th:only-of-type {\n",
       "        vertical-align: middle;\n",
       "    }\n",
       "\n",
       "    .dataframe tbody tr th {\n",
       "        vertical-align: top;\n",
       "    }\n",
       "\n",
       "    .dataframe thead th {\n",
       "        text-align: right;\n",
       "    }\n",
       "</style>\n",
       "<table border=\"1\" class=\"dataframe\">\n",
       "  <thead>\n",
       "    <tr style=\"text-align: right;\">\n",
       "      <th></th>\n",
       "      <th>USER_ID</th>\n",
       "      <th>VARIANT_NAME</th>\n",
       "      <th>REVENUE</th>\n",
       "    </tr>\n",
       "  </thead>\n",
       "  <tbody>\n",
       "    <tr>\n",
       "      <th>0</th>\n",
       "      <td>2423</td>\n",
       "      <td>control</td>\n",
       "      <td>0.0</td>\n",
       "    </tr>\n",
       "    <tr>\n",
       "      <th>1</th>\n",
       "      <td>9411</td>\n",
       "      <td>control</td>\n",
       "      <td>0.0</td>\n",
       "    </tr>\n",
       "    <tr>\n",
       "      <th>2</th>\n",
       "      <td>7311</td>\n",
       "      <td>control</td>\n",
       "      <td>0.0</td>\n",
       "    </tr>\n",
       "    <tr>\n",
       "      <th>3</th>\n",
       "      <td>2849</td>\n",
       "      <td>control</td>\n",
       "      <td>0.0</td>\n",
       "    </tr>\n",
       "    <tr>\n",
       "      <th>4</th>\n",
       "      <td>9168</td>\n",
       "      <td>control</td>\n",
       "      <td>0.0</td>\n",
       "    </tr>\n",
       "    <tr>\n",
       "      <th>...</th>\n",
       "      <td>...</td>\n",
       "      <td>...</td>\n",
       "      <td>...</td>\n",
       "    </tr>\n",
       "    <tr>\n",
       "      <th>7860</th>\n",
       "      <td>2259</td>\n",
       "      <td>variant</td>\n",
       "      <td>0.0</td>\n",
       "    </tr>\n",
       "    <tr>\n",
       "      <th>7861</th>\n",
       "      <td>4883</td>\n",
       "      <td>variant</td>\n",
       "      <td>0.0</td>\n",
       "    </tr>\n",
       "    <tr>\n",
       "      <th>7862</th>\n",
       "      <td>8864</td>\n",
       "      <td>variant</td>\n",
       "      <td>0.0</td>\n",
       "    </tr>\n",
       "    <tr>\n",
       "      <th>7863</th>\n",
       "      <td>9303</td>\n",
       "      <td>variant</td>\n",
       "      <td>0.0</td>\n",
       "    </tr>\n",
       "    <tr>\n",
       "      <th>7864</th>\n",
       "      <td>502</td>\n",
       "      <td>variant</td>\n",
       "      <td>0.0</td>\n",
       "    </tr>\n",
       "  </tbody>\n",
       "</table>\n",
       "<p>7865 rows × 3 columns</p>\n",
       "</div>"
      ],
      "text/plain": [
       "      USER_ID VARIANT_NAME  REVENUE\n",
       "0        2423      control      0.0\n",
       "1        9411      control      0.0\n",
       "2        7311      control      0.0\n",
       "3        2849      control      0.0\n",
       "4        9168      control      0.0\n",
       "...       ...          ...      ...\n",
       "7860     2259      variant      0.0\n",
       "7861     4883      variant      0.0\n",
       "7862     8864      variant      0.0\n",
       "7863     9303      variant      0.0\n",
       "7864      502      variant      0.0\n",
       "\n",
       "[7865 rows x 3 columns]"
      ]
     },
     "execution_count": 5,
     "metadata": {},
     "output_type": "execute_result"
    }
   ],
   "source": [
    "data = pd.concat([new_control, new_variant], axis=0).reset_index(drop=True)\n",
    "data"
   ]
  },
  {
   "cell_type": "markdown",
   "id": "329bad5f",
   "metadata": {},
   "source": [
    "### Exploratory Data Analysis\n",
    "\n",
    "<br> Exploratory data analysis ini dilakukan untuk mengetahui karateristik data secara visual dan juga tanpa harus mengecek tiap data secara terpisah. Beberapa langkah yang dilakukan sebegai berikut:<br><br>\n",
    "a. Univariat "
   ]
  },
  {
   "cell_type": "code",
   "execution_count": 6,
   "id": "32821fcc",
   "metadata": {},
   "outputs": [
    {
     "data": {
      "image/png": "[encoded data removed]",
      "text/plain": [
       "<Figure size 1000x400 with 2 Axes>"
      ]
     },
     "metadata": {},
     "output_type": "display_data"
    }
   ],
   "source": [
    "fig, ax = plt.subplots(1, 2, figsize=(10,4))\n",
    "\n",
    "ax1 = sns.countplot(data=data, x='VARIANT_NAME', ax=ax[0])\n",
    "ax1.set_title('Perbandingan VARIANT_NAME')\n",
    "ax2 = sns.histplot(data=data, x='REVENUE', kde=True ,ax=ax[1])\n",
    "ax2.set_title('Distribusi REVENUE')\n",
    "\n",
    "plt.tight_layout()\n",
    "plt.show()"
   ]
  },
  {
   "cell_type": "markdown",
   "id": "faa81b53",
   "metadata": {},
   "source": [
    "Untuk gambar yang kiri (bar graph), kita bisa mendapat informasi bahwa banyaknya jumlah observasi pada tipe variant dan control itu hampir sama banyak. Lanjut untuk gambar kanan (histogram plot), tentu kita kesulitan untuk memahami data karena pada awalnya, tujuan kita membuat histogram plot ini yaitu untuk mengetahui distribusi variabel REVENUE, apakah berdistribusi normal atau tidak. <br><br>\n",
    "b. Bivariat"
   ]
  },
  {
   "cell_type": "code",
   "execution_count": 7,
   "id": "728576f7",
   "metadata": {},
   "outputs": [
    {
     "data": {
      "image/png": "[encoded data removed]",
      "text/plain": [
       "<Figure size 640x480 with 1 Axes>"
      ]
     },
     "metadata": {},
     "output_type": "display_data"
    }
   ],
   "source": [
    "sns.boxplot(data=data, x='VARIANT_NAME', y='REVENUE')\n",
    "plt.show()"
   ]
  },
  {
   "cell_type": "markdown",
   "id": "b72e5cb0",
   "metadata": {},
   "source": [
    "Pada gambar plot ini, kita mendapati bahwa ada nilai ekstrim(outlier) pada VARIANT_NAME, maka dari itu kita harus menghapusnya agar nilai rata-rata VARIANT_NAME tidak terganggu olehnya. langkah awal, kita harus mencari index dari nilai ekstrim itu dengan cara mengurut nilai REVENUE secara menurun, lalu kita seleksi USER_ID yang memiliki nilai ekstrim tersebut."
   ]
  },
  {
   "cell_type": "code",
   "execution_count": 8,
   "id": "50a7ba3f",
   "metadata": {},
   "outputs": [
    {
     "data": {
      "text/html": [
       "<div>\n",
       "<style scoped>\n",
       "    .dataframe tbody tr th:only-of-type {\n",
       "        vertical-align: middle;\n",
       "    }\n",
       "\n",
       "    .dataframe tbody tr th {\n",
       "        vertical-align: top;\n",
       "    }\n",
       "\n",
       "    .dataframe thead th {\n",
       "        text-align: right;\n",
       "    }\n",
       "</style>\n",
       "<table border=\"1\" class=\"dataframe\">\n",
       "  <thead>\n",
       "    <tr style=\"text-align: right;\">\n",
       "      <th></th>\n",
       "      <th>USER_ID</th>\n",
       "      <th>VARIANT_NAME</th>\n",
       "      <th>REVENUE</th>\n",
       "    </tr>\n",
       "  </thead>\n",
       "  <tbody>\n",
       "    <tr>\n",
       "      <th>684</th>\n",
       "      <td>3342</td>\n",
       "      <td>control</td>\n",
       "      <td>196.01</td>\n",
       "    </tr>\n",
       "    <tr>\n",
       "      <th>7113</th>\n",
       "      <td>7206</td>\n",
       "      <td>variant</td>\n",
       "      <td>57.46</td>\n",
       "    </tr>\n",
       "    <tr>\n",
       "      <th>3744</th>\n",
       "      <td>6792</td>\n",
       "      <td>control</td>\n",
       "      <td>41.53</td>\n",
       "    </tr>\n",
       "  </tbody>\n",
       "</table>\n",
       "</div>"
      ],
      "text/plain": [
       "      USER_ID VARIANT_NAME  REVENUE\n",
       "684      3342      control   196.01\n",
       "7113     7206      variant    57.46\n",
       "3744     6792      control    41.53"
      ]
     },
     "execution_count": 8,
     "metadata": {},
     "output_type": "execute_result"
    }
   ],
   "source": [
    "data.sort_values(by='REVENUE', ascending=False).head(3)"
   ]
  },
  {
   "cell_type": "markdown",
   "id": "d60f7dea",
   "metadata": {},
   "source": [
    "Kita mendapati USER_ID memiliki nilai yang ekstrim yaitu USER_ID 3342."
   ]
  },
  {
   "cell_type": "code",
   "execution_count": 9,
   "id": "ebad82a9",
   "metadata": {},
   "outputs": [
    {
     "data": {
      "text/html": [
       "<div>\n",
       "<style scoped>\n",
       "    .dataframe tbody tr th:only-of-type {\n",
       "        vertical-align: middle;\n",
       "    }\n",
       "\n",
       "    .dataframe tbody tr th {\n",
       "        vertical-align: top;\n",
       "    }\n",
       "\n",
       "    .dataframe thead th {\n",
       "        text-align: right;\n",
       "    }\n",
       "</style>\n",
       "<table border=\"1\" class=\"dataframe\">\n",
       "  <thead>\n",
       "    <tr style=\"text-align: right;\">\n",
       "      <th></th>\n",
       "      <th>USER_ID</th>\n",
       "      <th>VARIANT_NAME</th>\n",
       "      <th>REVENUE</th>\n",
       "    </tr>\n",
       "  </thead>\n",
       "  <tbody>\n",
       "    <tr>\n",
       "      <th>7112</th>\n",
       "      <td>7206</td>\n",
       "      <td>variant</td>\n",
       "      <td>57.46</td>\n",
       "    </tr>\n",
       "    <tr>\n",
       "      <th>3743</th>\n",
       "      <td>6792</td>\n",
       "      <td>control</td>\n",
       "      <td>41.53</td>\n",
       "    </tr>\n",
       "    <tr>\n",
       "      <th>5109</th>\n",
       "      <td>7356</td>\n",
       "      <td>variant</td>\n",
       "      <td>23.04</td>\n",
       "    </tr>\n",
       "  </tbody>\n",
       "</table>\n",
       "</div>"
      ],
      "text/plain": [
       "      USER_ID VARIANT_NAME  REVENUE\n",
       "7112     7206      variant    57.46\n",
       "3743     6792      control    41.53\n",
       "5109     7356      variant    23.04"
      ]
     },
     "execution_count": 9,
     "metadata": {},
     "output_type": "execute_result"
    }
   ],
   "source": [
    "data = data.loc[data['USER_ID'] != 3342].reset_index(drop=True)\n",
    "data.sort_values(by='REVENUE', ascending=False).head(3)"
   ]
  },
  {
   "cell_type": "markdown",
   "id": "607394ce",
   "metadata": {},
   "source": [
    "Sudah terlihat di sini tidak ada nilai ekstrim yang tersimpan di dalam data."
   ]
  },
  {
   "cell_type": "code",
   "execution_count": 10,
   "id": "d605cdd0",
   "metadata": {},
   "outputs": [
    {
     "data": {
      "image/png": "[encoded data removed]",
      "text/plain": [
       "<Figure size 640x480 with 1 Axes>"
      ]
     },
     "metadata": {},
     "output_type": "display_data"
    }
   ],
   "source": [
    "sns.boxplot(data=data, x='VARIANT_NAME', y='REVENUE')\n",
    "plt.show()"
   ]
  },
  {
   "cell_type": "markdown",
   "id": "27940f98",
   "metadata": {},
   "source": [
    "### Uji hipotesis\n",
    "Pada subbab ini, kita akan membuat hipotesis untuk membuktikan apakah ada perbedaan rata-rata yang signifikan antara VARIANT_NAME control dan VARIANT_NAME variant. Untuk itu, lihat dulu rata-rata tiap variant."
   ]
  },
  {
   "cell_type": "code",
   "execution_count": 11,
   "id": "c87207e5",
   "metadata": {},
   "outputs": [
    {
     "data": {
      "text/html": [
       "<div>\n",
       "<style scoped>\n",
       "    .dataframe tbody tr th:only-of-type {\n",
       "        vertical-align: middle;\n",
       "    }\n",
       "\n",
       "    .dataframe tbody tr th {\n",
       "        vertical-align: top;\n",
       "    }\n",
       "\n",
       "    .dataframe thead th {\n",
       "        text-align: right;\n",
       "    }\n",
       "</style>\n",
       "<table border=\"1\" class=\"dataframe\">\n",
       "  <thead>\n",
       "    <tr style=\"text-align: right;\">\n",
       "      <th></th>\n",
       "      <th>REVENUE</th>\n",
       "    </tr>\n",
       "    <tr>\n",
       "      <th>VARIANT_NAME</th>\n",
       "      <th></th>\n",
       "    </tr>\n",
       "  </thead>\n",
       "  <tbody>\n",
       "    <tr>\n",
       "      <th>control</th>\n",
       "      <td>0.065232</td>\n",
       "    </tr>\n",
       "    <tr>\n",
       "      <th>variant</th>\n",
       "      <td>0.064830</td>\n",
       "    </tr>\n",
       "  </tbody>\n",
       "</table>\n",
       "</div>"
      ],
      "text/plain": [
       "               REVENUE\n",
       "VARIANT_NAME          \n",
       "control       0.065232\n",
       "variant       0.064830"
      ]
     },
     "execution_count": 11,
     "metadata": {},
     "output_type": "execute_result"
    }
   ],
   "source": [
    "data.groupby(['VARIANT_NAME']).agg({'REVENUE' : 'mean'})"
   ]
  },
  {
   "cell_type": "markdown",
   "id": "8b465195",
   "metadata": {},
   "source": [
    "Meskipun rata-rata REVENUE dari control terlihat lebih baik. Namun pada poin ini, kita tidak tahu apakah perbedaan angka ini hanya dari kebetulan yang acak. Maka dari itu, kita membangun hipotesis seperti berikut:<br>\n",
    "- h0 : Tidak ada perbedaan yang signifikan antara rata-rata control dengan rata-rata variant \n",
    "- h1 : Ada perbedaan yang signifikan antara rata-rata control dengan rata-rata variant \n"
   ]
  },
  {
   "cell_type": "markdown",
   "id": "463a9225",
   "metadata": {},
   "source": [
    "\n",
    "<br> Pada tahap ini, kita akan melakukan a/b testing. Langkah awal yang dilalukan yaitu melakukan uji normalitas dan uji homogenitas pada data yang ada. Hal ini dilakukan untuk mengetahui karakteristik data dan juga sebagai syarat untuk uji selanjutnya. Metode parametrik disyaratkan data mengikuti distribusi normal dan juga bersifat homogen. Jika metode parametrik ini tidak bisa digunakan, maka ada alternatif lain yaitu menggunakan metode non-parametrik.\n",
    "<br><br> Langkah awal yang harus digunakan yaitu uji normalitas menggunakan uji shapiro-wilk. Sebelum itu, kita harus menuliskan hipotesis untuk uji shapiro-wilk :<br>\n",
    "- h0 : Data mengikuti distribusi normal\n",
    "- h1 : Data tidak mengikuti distribusi normal\n"
   ]
  },
  {
   "cell_type": "code",
   "execution_count": 12,
   "id": "91eca335",
   "metadata": {},
   "outputs": [
    {
     "name": "stdout",
     "output_type": "stream",
     "text": [
      "hasil uji normalitas untuk data control :\n",
      "tolak h0 : data control tidak mengikuti distribusi normal\n",
      "\n",
      "hasil uji normalitas untuk data variant :\n",
      "tolak h0 : data variant tidak mengikuti distribusi normal\n"
     ]
    }
   ],
   "source": [
    "from scipy.stats import shapiro\n",
    "\n",
    "statistic_control, pvalue_control = shapiro(data[data['VARIANT_NAME'] == 'control'].REVENUE)\n",
    "statistic_variant, pvalue_variant = shapiro(data[data['VARIANT_NAME'] == 'variant'].REVENUE)\n",
    "\n",
    "alpha = 0.05\n",
    "\n",
    "print('hasil uji normalitas untuk data control :')\n",
    "if pvalue_control < alpha:\n",
    "    print('tolak h0 : data control tidak mengikuti distribusi normal\\n')\n",
    "else:\n",
    "    print('terima h0 : data control mengikuti distribusi normal\\n')\n",
    "    \n",
    "print('hasil uji normalitas untuk data variant :')\n",
    "if pvalue_variant < alpha:\n",
    "    print('tolak h0 : data variant tidak mengikuti distribusi normal')\n",
    "else:\n",
    "    print('terima h0 : data variant mengikuti distribusi normal')"
   ]
  },
  {
   "cell_type": "markdown",
   "id": "6eb69bea",
   "metadata": {},
   "source": [
    "Setelah mengetahui hasil di atas, kita mendapati bahwa sebaran data control dan juga data variant tidak mengikuti distribusi normal. Maka dari itu, metode parametrik tidak bisa digunakan karena asumsi data yang digunakan tidak terpenuhi. Untuk itu, kita bisa langsung menggunakan metode non-parametrik untuk pengujian selanjutnya. Di sini saya melakukan uji Mann-Whitney U dengan hipotesis yang sudah saya sampaikan diawal sebegai berikut :<br><br>\n",
    "- h0 : Tidak ada perbedaan yang signifikan antara rata-rata control dengan rata-rata variant \n",
    "- h1 : Ada perbedaan yang signifikan antara rata-rata control dengan rata-rata variant \n"
   ]
  },
  {
   "cell_type": "code",
   "execution_count": 13,
   "id": "57a8cd46",
   "metadata": {},
   "outputs": [
    {
     "name": "stdout",
     "output_type": "stream",
     "text": [
      "gagal tolak, h0 pvaluenya adalah 0.7087660922753102\n"
     ]
    }
   ],
   "source": [
    "from scipy.stats import mannwhitneyu\n",
    "\n",
    "statistic, pvalue = mannwhitneyu(data.loc[data['VARIANT_NAME'] == 'variant'].REVENUE, \n",
    "                                data.loc[data['VARIANT_NAME'] == 'control'].REVENUE)\n",
    "\n",
    "if pvalue < alpha:\n",
    "    print(f'tolak h0, pvaluenya adalah {pvalue}')\n",
    "else:\n",
    "    print(f'gagal tolak, h0 pvaluenya adalah {pvalue}')"
   ]
  },
  {
   "cell_type": "markdown",
   "id": "0d5b4dea",
   "metadata": {},
   "source": [
    "Pada uji Mann-Whitney U, didapatkan bahwa nilai dari pvalue nya adalah 0.70 sehingga mengakibatkannya gagal tolak pada hipotesis nol yang mengindikasi bahwa tidak ada perbedaan yang signifikan antara rata-rata control dan juga rata-rata variant.<br><br>\n",
    "\n",
    "Karena tidak ada perbedaan rata-rata yang signifikan, dalam proses a/b testing ini tidak bisa disimpulkan VARIANT_NAME mana yang baik untuk meningkatkan pendapatan. Hal ini membuktikan bahwa dampak yang diberikan kedua kelompok terhadap variabel REVENUE adalah sama."
   ]
  },
  {
   "cell_type": "markdown",
   "id": "988dc92a",
   "metadata": {},
   "source": [
    "### Kesimpulan\n",
    "<br>Berdasarkan analisis yang telah dilakukan terhadap hasil eksperimen A/B testing, kami dapat menyimpulkan bahwa tidak terdapat perbedaan rata-rata yang signifikan antara variant_name \"control\" dan \"variant\" dalam hal pendapatan. Artinya, perubahan tata letak visual yang diuji pada varian \"variant\" tidak menghasilkan dampak yang signifikan terhadap pendapatan situs web.\n",
    "<br><br>\n",
    "Hasil ini didukung oleh analisis eksploratori data (EDA) dan uji hipotesis yang kami lakukan. Meskipun terdapat variasi dalam pendapatan antara kedua varian, perbedaan tersebut tidak melewati ambang signifikansi statistik yang telah ditetapkan. Oleh karena itu, kami merekomendasikan untuk tidak mengimplementasikan perubahan tata letak visual dari varian \"variant\" secara penuh, mengingat hasil analisis yang menunjukkan ketidaksignifikan dari perubahan tersebut."
   ]
  }
 ],
 "metadata": {
  "kernelspec": {
   "display_name": "Python 3 (ipykernel)",
   "language": "python",
   "name": "python3"
  },
  "language_info": {
   "codemirror_mode": {
    "name": "ipython",
    "version": 3
   },
   "file_extension": ".py",
   "mimetype": "text/x-python",
   "name": "python",
   "nbconvert_exporter": "python",
   "pygments_lexer": "ipython3",
   "version": "3.8.10"
  }
 },
 "nbformat": 4,
 "nbformat_minor": 5
}
